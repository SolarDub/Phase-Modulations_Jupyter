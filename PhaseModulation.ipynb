{
 "cells": [
  {
   "cell_type": "code",
   "execution_count": null,
   "id": "8340afde",
   "metadata": {},
   "outputs": [],
   "source": [
    "import numpy as np, scipy.optimize\n",
    "import matplotlib.pyplot as plt\n",
    "from scipy.signal import find_peaks"
   ]
  },
  {
   "cell_type": "code",
   "execution_count": null,
   "id": "71276413",
   "metadata": {},
   "outputs": [],
   "source": [
    "# Set up time array \n",
    "Nd   = 300                  # Number of days in timeseries\n",
    "dt   = 1/24                 # Time steps in days\n",
    "time = np.arange(0,Nd,dt)   # Set up time array"
   ]
  },
  {
   "cell_type": "code",
   "execution_count": null,
   "id": "2b5e90a2",
   "metadata": {},
   "outputs": [],
   "source": [
    "# Set up two-component signal attributes\n",
    "A1 = 0.08;      A2 = 0.03     # Fractional variation amplitude\n",
    "f1 = 0.0791;    f2 = 0.1535   # Variation frequencies (cycles / day)\n",
    "p1 = -0.008;    p2 = -0.54    # Phase at t = 0"
   ]
  },
  {
   "cell_type": "code",
   "execution_count": null,
   "id": "b7f8407d",
   "metadata": {},
   "outputs": [],
   "source": [
    "# Create two-component signal\n",
    "sig = A1*np.sin(2*np.pi*f1*time+p1)       # First signal component\n",
    "sig = sig + A2*np.sin(2*np.pi*f2*time+p2) # Add in second signal component"
   ]
  },
  {
   "cell_type": "code",
   "execution_count": null,
   "id": "85962a4c",
   "metadata": {},
   "outputs": [],
   "source": [
    "# Plot Signal\n",
    "fig, ax = plt.subplots()\n",
    "ax.plot(time,sig)\n",
    "ax.set_xlabel('Time (days)', fontsize=16)\n",
    "ax.set_ylabel('Fractional Flux Deviation (mmag)', fontsize=16)\n",
    "for label in (ax.get_xticklabels() + ax.get_yticklabels()): label.set_fontsize(14)\n",
    "ax.set_xlim(-5,305)\n",
    "ax.set_ylim(-0.12,0.12)\n",
    "ax.invert_yaxis()"
   ]
  },
  {
   "cell_type": "code",
   "execution_count": null,
   "id": "5cd65952",
   "metadata": {},
   "outputs": [],
   "source": [
    "# Define partial-section of signal to autocorrelate across full signal\n",
    "sld    = 50              # Section length in day\n",
    "seclen = sld*int(1/dt)   # Number of points in this section\n",
    "sec    = sig[0:seclen]   # Extract this section"
   ]
  },
  {
   "cell_type": "code",
   "execution_count": null,
   "id": "56f9177e",
   "metadata": {},
   "outputs": [],
   "source": [
    "# Initialise autocorrelation (AC) array list\n",
    "acorr  = []"
   ]
  },
  {
   "cell_type": "code",
   "execution_count": null,
   "id": "47a5f45d",
   "metadata": {},
   "outputs": [],
   "source": [
    "for i in range(0,int(((Nd-sld)/dt)-1)):\n",
    "    \n",
    "    sigsec = sig[i:i+seclen]\n",
    "    var1   = sec-np.mean(sec)\n",
    "    var2   = sigsec-np.mean(sigsec)\n",
    "    Pcoeff = np.sum((var1/np.std(sec))*var2/np.std(sigsec))/(len(sec)-1)\n",
    "    \n",
    "    acorr.append(Pcoeff)"
   ]
  },
  {
   "cell_type": "code",
   "execution_count": null,
   "id": "dfe95f37",
   "metadata": {},
   "outputs": [],
   "source": [
    "# AC time-lag array\n",
    "tcorr = np.arange(0,(len(acorr))*dt,dt)"
   ]
  },
  {
   "cell_type": "code",
   "execution_count": null,
   "id": "f1a056ff",
   "metadata": {},
   "outputs": [],
   "source": [
    "# Find indices of peaks above 0.95\n",
    "peaks, _ = find_peaks(acorr, height=0.95)"
   ]
  },
  {
   "cell_type": "code",
   "execution_count": null,
   "id": "47cfe309",
   "metadata": {},
   "outputs": [],
   "source": [
    "# Find AC values and corresponding time stamps for those peaks\n",
    "acp = [acorr[i] for i in peaks]\n",
    "tcp = [tcorr[i] for i in peaks]"
   ]
  },
  {
   "cell_type": "code",
   "execution_count": null,
   "id": "2322184e",
   "metadata": {},
   "outputs": [],
   "source": [
    "# Repetition time is the timestamp at the highest AC value of those peaks\n",
    "reptime = tcp[acp.index(max(acp))]"
   ]
  },
  {
   "cell_type": "code",
   "execution_count": null,
   "id": "09926c47",
   "metadata": {},
   "outputs": [],
   "source": [
    "print('Repetition time: {0:.4f} days.'.format(reptime))"
   ]
  },
  {
   "cell_type": "code",
   "execution_count": null,
   "id": "9f7fd696",
   "metadata": {},
   "outputs": [],
   "source": [
    "fig = plt.figure(figsize = (8,8))  # Figure handle\n",
    "\n",
    "# Signal Function Plot\n",
    "ax  = fig.add_subplot(2,1,1)       # Set up axes handle\n",
    "ax.plot(time,sig)\n",
    "ax.set_xlabel('Time (days)', fontsize=16)\n",
    "ax.set_ylabel('Fractional Flux Deviation (mmag)', fontsize=16)\n",
    "for label in (ax.get_xticklabels() + ax.get_yticklabels()): label.set_fontsize(14)\n",
    "ax.set_xlim(-5,305)\n",
    "ax.set_ylim(-0.12,0.12)\n",
    "ax.plot([0,0],[-1.5,1.5],':',color='black')\n",
    "ax.plot([reptime,reptime],[-1.5,1.5],':',color='black')\n",
    "plt.text(reptime+2, -0.09, \"Repetition time:\\n{0:.2f} days.\".format(reptime))\n",
    "ax.invert_yaxis()\n",
    "\n",
    "# Autocorrelation Function Plot\n",
    "ax  = fig.add_subplot(2,1,2)       # Set up axes handle\n",
    "ax.plot(tcorr,acorr)\n",
    "ax.set_xlabel('Lag time (days)', fontsize=16)\n",
    "ax.set_ylabel('Pearson Coefficient', fontsize=16)\n",
    "for label in (ax.get_xticklabels() + ax.get_yticklabels()): label.set_fontsize(14)\n",
    "ax.set_xlim(-5,305)\n",
    "ax.set_ylim(-1.2,1.2)\n",
    "ax.plot([0,0],[-1.5,1.5],':',color='black')\n",
    "ax.plot([reptime,reptime],[-1.5,1.5],':',color='black')"
   ]
  },
  {
   "cell_type": "code",
   "execution_count": null,
   "id": "b2b2d838",
   "metadata": {},
   "outputs": [],
   "source": [
    "# Section of signal that is correlated across full signal\n",
    "fig, ax = plt.subplots()\n",
    "ax.plot(time[0:seclen],sig[0:seclen])\n",
    "ax.set_xlabel('Time (days)', fontsize=16)\n",
    "ax.set_ylabel('Fractional Flux Deviation (mmag)', fontsize=16)\n",
    "for label in (ax.get_xticklabels() + ax.get_yticklabels()): label.set_fontsize(14)\n",
    "ax.invert_yaxis()"
   ]
  },
  {
   "cell_type": "code",
   "execution_count": null,
   "id": "76eb3c85",
   "metadata": {},
   "outputs": [],
   "source": [
    "############################\n",
    "# Alternative, direct method\n",
    "\n",
    "sfrac = 1/6         # Use first 1/6 of signal as partial section to autocorrelate\n",
    "cfrac = 1 - sfrac   # Fraction of signal up to which to calculate AC lag time\n",
    "\n",
    "acorr = np.array([1]+[np.corrcoef(sig[:-i], sig[i:])[0,1]  \\\n",
    "        for i in range(1, int(np.floor(len(sig)*cfrac)))])\n",
    "\n",
    "# Autocorrelation Function Plot\n",
    "fig, ax = plt.subplots()\n",
    "ax.plot(time[0:int(np.floor(len(sig)*cfrac))]-time[0],acorr)\n",
    "ax.set_xlim(-5,305)\n",
    "ax.set_ylim(-1.2,1.2)\n",
    "ax.plot([0,0],[-1.5,1.5],':',color='black')\n",
    "ax.plot([reptime,reptime],[-1.5,1.5],':',color='black')\n",
    "ax.set_xlabel('Lag time (days)', fontsize=16)\n",
    "ax.set_ylabel('Pearson Coefficient', fontsize=16)"
   ]
  }
 ],
 "metadata": {
  "kernelspec": {
   "display_name": "Python 3 (ipykernel)",
   "language": "python",
   "name": "python3"
  },
  "language_info": {
   "codemirror_mode": {
    "name": "ipython",
    "version": 3
   },
   "file_extension": ".py",
   "mimetype": "text/x-python",
   "name": "python",
   "nbconvert_exporter": "python",
   "pygments_lexer": "ipython3",
   "version": "3.8.1"
  },
  "widgets": {
   "application/vnd.jupyter.widget-state+json": {
    "state": {},
    "version_major": 2,
    "version_minor": 0
   }
  }
 },
 "nbformat": 4,
 "nbformat_minor": 5
}
